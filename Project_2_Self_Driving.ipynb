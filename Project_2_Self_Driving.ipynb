{
  "nbformat": 4,
  "nbformat_minor": 0,
  "metadata": {
    "colab": {
      "name": "Project 2 - Self Driving.ipynb",
      "provenance": []
    },
    "kernelspec": {
      "name": "python3",
      "display_name": "Python 3"
    },
    "language_info": {
      "name": "python"
    }
  },
  "cells": [
    {
      "cell_type": "markdown",
      "metadata": {
        "id": "TCCcH-kNl2ry"
      },
      "source": [
        "### 1.Import Dependencies"
      ]
    },
    {
      "cell_type": "code",
      "metadata": {
        "id": "tUl0mItClrDj"
      },
      "source": [
        "!pip install gym[box2d]\n",
        "!pip install stable-baselines3[extra]"
      ],
      "execution_count": null,
      "outputs": []
    },
    {
      "cell_type": "code",
      "metadata": {
        "id": "tUOkzDO9lwb0"
      },
      "source": [
        "!pip install pyglet"
      ],
      "execution_count": null,
      "outputs": []
    },
    {
      "cell_type": "code",
      "metadata": {
        "id": "jO05WEo1mByW"
      },
      "source": [
        "import os\n",
        "import gym\n",
        "from stable_baselines3 import PPO\n",
        "from stable_baselines3.common.vec_env import DummyVecEnv\n",
        "from stable_baselines3.common.evaluation import evaluate_policy"
      ],
      "execution_count": 3,
      "outputs": []
    },
    {
      "cell_type": "markdown",
      "metadata": {
        "id": "90yHg6pLnDNX"
      },
      "source": [
        "### 2. Test Environment"
      ]
    },
    {
      "cell_type": "code",
      "metadata": {
        "id": "FMl7lEY_nKHc"
      },
      "source": [
        "env_name = 'CarRacing-v0'\n",
        "env = gym.make(env_name)"
      ],
      "execution_count": null,
      "outputs": []
    },
    {
      "cell_type": "code",
      "metadata": {
        "id": "VESz9x7xnWDE"
      },
      "source": [
        "env.action_space"
      ],
      "execution_count": null,
      "outputs": []
    },
    {
      "cell_type": "code",
      "metadata": {
        "id": "SWgIKYiCnjWF"
      },
      "source": [
        "env.close()"
      ],
      "execution_count": 6,
      "outputs": []
    },
    {
      "cell_type": "code",
      "metadata": {
        "id": "pcReGdUunqhy"
      },
      "source": [
        "#loop to test our environment\n",
        "\n",
        "episodes = 5\n",
        "for episode in range(1, episodes + 1):\n",
        "  obs = env.reset()\n",
        "  done = False\n",
        "  score = 0\n",
        "\n",
        "  while not done:\n",
        "   # env.render()\n",
        "    \n",
        "    action = env.action_space.sample()\n",
        "    obs, reward, done, info = env.step(action)\n",
        "    score += reward\n",
        "  print('Episode:{}, Score:{}'.format(episode, score))\n",
        "env.close()\n",
        "#show_video()"
      ],
      "execution_count": null,
      "outputs": []
    },
    {
      "cell_type": "markdown",
      "metadata": {
        "id": "-XyFRfzSoL53"
      },
      "source": [
        "### 3. Train Model"
      ]
    },
    {
      "cell_type": "code",
      "metadata": {
        "id": "KSPJiIm7oSoM"
      },
      "source": [
        "env = gym.make(env_name)\n",
        "env = DummyVecEnv([lambda: env])"
      ],
      "execution_count": null,
      "outputs": []
    },
    {
      "cell_type": "code",
      "metadata": {
        "id": "EJEL0d97pdHW"
      },
      "source": [
        "log_path = os.path.join('gdrive','MyDrive','Training','Logs')\n",
        "model = PPO('CnnPolicy', env,verbose=1, tensorboard_log=log_path)"
      ],
      "execution_count": null,
      "outputs": []
    },
    {
      "cell_type": "code",
      "metadata": {
        "id": "hD8HhRuBp1QE"
      },
      "source": [
        "model.learn(total_timesteps=100000)"
      ],
      "execution_count": null,
      "outputs": []
    },
    {
      "cell_type": "markdown",
      "metadata": {
        "id": "aVzxdTpDp_L7"
      },
      "source": [
        "### 4. Save Model"
      ]
    },
    {
      "cell_type": "code",
      "metadata": {
        "id": "mATWFjk3qCYq"
      },
      "source": [
        "PPO_Path = os.path.join('gdrive','MyDrive','Training','Saved Models','PPO_Driving_Model')"
      ],
      "execution_count": null,
      "outputs": []
    },
    {
      "cell_type": "code",
      "metadata": {
        "id": "Kj6wqDRJqNgk"
      },
      "source": [
        "model.save(PPO_Path)\n"
      ],
      "execution_count": null,
      "outputs": []
    },
    {
      "cell_type": "markdown",
      "metadata": {
        "id": "Ct-dlj5bqSQx"
      },
      "source": [
        "### 5. Evaluate and Test"
      ]
    },
    {
      "cell_type": "code",
      "metadata": {
        "id": "-9JTh_-eqdBs"
      },
      "source": [
        "evaluate_policy(model, env, n_eval_episodes=10, render=True)"
      ],
      "execution_count": null,
      "outputs": []
    },
    {
      "cell_type": "code",
      "metadata": {
        "id": "h2iZUnMtqmmN"
      },
      "source": [
        "env.close"
      ],
      "execution_count": null,
      "outputs": []
    },
    {
      "cell_type": "code",
      "metadata": {
        "id": "GwHMKETBqyC4"
      },
      "source": [
        "#loop to test our environment\n",
        "\n",
        "episodes = 5\n",
        "for episode in range(1, episodes + 1):\n",
        "  obs = env.reset()\n",
        "  done = False\n",
        "  score = 0\n",
        "\n",
        "  while not done:\n",
        "    env.render()\n",
        "    \n",
        "    action, _ = model.predict(obs)   #now using model here\n",
        "    obs, reward, done, info = env.step(action)\n",
        "    score += reward\n",
        "  print('Episode:{}, Score:{}'.format(episode, score))\n",
        "env.close()\n",
        "#show_video()"
      ],
      "execution_count": null,
      "outputs": []
    }
  ]
}